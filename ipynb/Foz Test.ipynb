{
 "metadata": {
  "name": ""
 },
 "nbformat": 3,
 "nbformat_minor": 0,
 "worksheets": [
  {
   "cells": [
    {
     "cell_type": "code",
     "collapsed": false,
     "input": [
      "# imports\n",
      "import Foz\n",
      "from Foz import read_racers, read_timer_results\n",
      "from collections import namedtuple\n",
      "import math\n"
     ],
     "language": "python",
     "metadata": {},
     "outputs": [],
     "prompt_number": 5
    },
    {
     "cell_type": "code",
     "collapsed": false,
     "input": [
      "RaceIdentifier = namedtuple('RaceIdentifier', 'race round heat')\n",
      "ri = RaceIdentifier(3, 2, 3)\n",
      "print(ri)\n",
      "rn = Foz.RaceNumber(3, 7)\n",
      "print(rn)"
     ],
     "language": "python",
     "metadata": {},
     "outputs": [
      {
       "output_type": "stream",
       "stream": "stdout",
       "text": [
        "RaceIdentifier(race=3, round=2, heat=3)\n",
        "Race #3: Round 1, Heat 3\n"
       ]
      }
     ],
     "prompt_number": 10
    },
    {
     "cell_type": "raw",
     "metadata": {},
     "source": [
      "Needs:\n",
      "\n",
      "Race #, Round #, Heat #, Racing Group\n",
      "    Lane #, Racer Info, Time, Place\n",
      "    Lane #, Racer Info, Time, Place\n",
      "    Lane #, Racer Info, Time, Place\n",
      "    ...etc\n",
      "\n",
      "\n"
     ]
    },
    {
     "cell_type": "code",
     "collapsed": false,
     "input": [
      "heats = 3\n",
      "for i in range(1, 10):\n",
      "    rn = Foz.RaceNumber(i, heats)\n",
      "    print(rn)\n",
      "    #print(\"Race #{0}:  Round {1}, Heat {2}\".format(rn.race_num, rn.round_num, rn.heat_num))\n",
      "\n",
      "\n"
     ],
     "language": "python",
     "metadata": {},
     "outputs": [
      {
       "output_type": "stream",
       "stream": "stdout",
       "text": [
        "Race #1: Round 1, Heat 1\n",
        "Race #2: Round 1, Heat 2\n",
        "Race #3: Round 1, Heat 3\n",
        "Race #4: Round 2, Heat 1\n",
        "Race #5: Round 2, Heat 2\n",
        "Race #6: Round 2, Heat 3\n",
        "Race #7: Round 3, Heat 1\n",
        "Race #8: Round 3, Heat 2\n",
        "Race #9: Round 3, Heat 3\n"
       ]
      }
     ],
     "prompt_number": 2
    },
    {
     "cell_type": "code",
     "collapsed": false,
     "input": [
      "racers = read_racers()\n",
      "engine = Foz.DerbyEngine(racers, 7, 6)\n",
      "print('blah')\n",
      "a = engine.get_heats_per_round(len(racers), 7)\n",
      "b = engine.get_byes_needed(len(racers), 7)\n",
      "print(a)\n",
      "print(b)\n",
      "print(engine.byes_by_group)\n",
      "print(engine._race_number)"
     ],
     "language": "python",
     "metadata": {},
     "outputs": [
      {
       "output_type": "stream",
       "stream": "stdout",
       "text": [
        "scouts\n",
        "[13 - Nick Sanderell, 14 - Charlie Limbert, 27 - Robbie Hite, 32 - John Rice, 33 - Grant Rice, 34 - Thomas Rice, 36 - Augustus Read, 37 - Donovan Timm, 39 - Devin Miller, 01 - Brendan Meloun, 03 - Dillon Miller, 06 - Ben Spires, 10 - Christopher Govenor, 16 - Joseph DiPalma, 17 - Preston Phillips, 19 - Jimmy Deluca, 20 - Hayden Kernosky, 24 - Jack Engram, 28 - Ben Boyle, 29 - John Spencer, 31 - Marcello Brogan, 35 - Easton Kernosky, 42 - Dylan Minerd, 05 - Jack Anderson, 07 - Caleb Sark, 18 - Matt Stepian, 22 - Alex Ruhe, 40 - Jacob Donahue, 02 - Keegan Meloun, 04 - Evan Conkle, 08 - Timothy Govenor, 09 - Dan Ferguson, 11 - Zane Torbert, 12 - Joey Sanderell, 15 - Victor Lockwood, 21 - Anthony Phillips, 23 - Paul Roginski, 25 - Kevin Bray, 26 - Joseph Hite, 30 - Andrew Fleming, 38 - Mark Deleo, 41 - Graham Houser]\n",
        "42\n",
        "family/friends\n",
        "[83 - Alison Rose]\n",
        "1\n",
        "old timers\n",
        "[91 - Adult Leader2, 93 - Adult Leader]\n",
        "2\n",
        "blah\n",
        "7\n",
        "4\n",
        "OrderedDict([(scouts, []), (family/friends, [994 - Bye family/friends #1, 995 - Bye family/friends #2, 996 - Bye family/friends #3, 997 - Bye family/friends #4, 998 - Bye family/friends #5, 999 - Bye family/friends #6]), (old timers, [989 - Bye old timers #1, 990 - Bye old timers #2, 991 - Bye old timers #3, 992 - Bye old timers #4, 993 - Bye old timers #5])])\n",
        "Race #1: Round 1, Heat 1\n"
       ]
      }
     ],
     "prompt_number": 6
    },
    {
     "cell_type": "code",
     "collapsed": false,
     "input": [
      "read_racers()"
     ],
     "language": "python",
     "metadata": {},
     "outputs": [
      {
       "metadata": {},
       "output_type": "pyout",
       "prompt_number": 8,
       "text": [
        "[01 - Brendan Meloun,\n",
        " 02 - Keegan Meloun,\n",
        " 03 - Dillon Miller,\n",
        " 04 - Evan Conkle,\n",
        " 05 - Jack Anderson,\n",
        " 06 - Ben Spires,\n",
        " 07 - Caleb Sark,\n",
        " 08 - Timothy Govenor,\n",
        " 09 - Dan Ferguson,\n",
        " 10 - Christopher Govenor,\n",
        " 11 - Zane Torbert,\n",
        " 12 - Joey Sanderell,\n",
        " 13 - Nick Sanderell,\n",
        " 14 - Charlie Limbert,\n",
        " 15 - Victor Lockwood,\n",
        " 16 - Joseph DiPalma,\n",
        " 17 - Preston Phillips,\n",
        " 18 - Matt Stepian,\n",
        " 19 - Jimmy Deluca,\n",
        " 20 - Hayden Kernosky,\n",
        " 21 - Anthony Phillips,\n",
        " 22 - Alex Ruhe,\n",
        " 23 - Paul Roginski,\n",
        " 24 - Jack Engram,\n",
        " 25 - Kevin Bray,\n",
        " 26 - Joseph Hite,\n",
        " 27 - Robbie Hite,\n",
        " 28 - Ben Boyle,\n",
        " 29 - John Spencer,\n",
        " 30 - Andrew Fleming,\n",
        " 31 - Marcello Brogan,\n",
        " 32 - John Rice,\n",
        " 33 - Grant Rice,\n",
        " 34 - Thomas Rice,\n",
        " 35 - Easton Kernosky,\n",
        " 36 - Augustus Read,\n",
        " 37 - Donovan Timm,\n",
        " 38 - Mark Deleo,\n",
        " 39 - Devin Miller,\n",
        " 40 - Jacob Donahue,\n",
        " 41 - Graham Houser,\n",
        " 42 - Dylan Minerd,\n",
        " 93 - Adult Leader,\n",
        " 83 - Alison Rose,\n",
        " 91 - Adult Leader2]"
       ]
      }
     ],
     "prompt_number": 8
    },
    {
     "cell_type": "code",
     "collapsed": false,
     "input": [
      "read_timer_results()"
     ],
     "language": "python",
     "metadata": {},
     "outputs": [
      {
       "metadata": {},
       "output_type": "pyout",
       "prompt_number": 9,
       "text": [
        "[['Lane 6: 1st place @2.5854', 'Lane 7: 2nd place @2.5874', 'Lane 4: 3rd place @2.6130', 'Lane 5: 4th place @2.6143', 'Lane 2: 5th place @2.6717', 'Lane 1: 6th place @2.7175', 'Lane 3: 7th place @2.7606'],\n",
        " ['Lane 2: 1st place @2.5705', 'Lane 1: 2nd place @2.5919', 'Lane 6: 3rd place @2.6023', 'Lane 5: 4th place @2.6067', 'Lane 7: 5th place @2.6530', 'Lane 4: 6th place @2.6566', 'Lane 3: 7th place @2.6673'],\n",
        " ['Lane 5: 1st place @2.5986', 'Lane 4: 2nd place @2.6033', 'Lane 3: 3rd place @2.6187', 'Lane 1: 4th place @2.6274', 'Lane 6: 5th place @2.6545', 'Lane 7: 6th place @2.7408', 'Lane 2: 7th place @2.9042'],\n",
        " ['Lane 4: 1st place @2.6039', 'Lane 7: 2nd place @2.6201', 'Lane 6: 3rd place @2.6248', 'Lane 3: 4th place @2.6520', 'Lane 5: 5th place @2.6987', 'Lane 1: 6th place @2.7179', 'Lane 2: 7th place @2.7927'],\n",
        " ['Lane 1: 1st place @2.5933', 'Lane 5: 2nd place @2.6185', 'Lane 2: 3rd place @2.6317', 'Lane 3: 4th place @2.6838', 'Lane 6: 5th place @2.6940', 'Lane 7: 6th place @2.6978', 'Lane 4: 7th place @2.7850'],\n",
        " ['Lane 5: 1st place @2.5975', 'Lane 3: 2nd place @2.6037', 'Lane 1: 3rd place @2.6103', 'Lane 6: 4th place @2.6605', 'Lane 2: 5th place @2.7007', 'Lane 4: 6th place @2.7371', 'Lane 7: 7th place @2.7515'],\n",
        " ['Lane 3: 1st place @2.6405', 'Lane 7: 2nd place @2.7282', 'Lane 1: 3rd place @2.7557', 'Lane 2: 4th place @2.7701', 'Lane 6: 5th place @2.7742', 'Lane 4: 6th place @2.9160', 'Lane 5: 7th place @2.9327'],\n",
        " ['Lane 2: 1st place @2.6529', 'Lane 7: 2nd place @2.6796', 'Lane 4: 3rd place @2.6832', 'Lane 5: 4th place @2.6875', 'Lane 3: 5th place @2.7040', 'Lane 1: 6th place @2.7466', 'Lane 6: 7th place @2.8037'],\n",
        " ['Lane 1: 1st place @2.5793', 'Lane 3: 2nd place @2.6192', 'Lane 7: 3rd place @2.6209', 'Lane 6: 4th place @2.6270', 'Lane 4: 5th place @2.6404', 'Lane 5: 6th place @2.6997', 'Lane 2: 7th place @2.7108'],\n",
        " ['Lane 6: 1st place @2.5695', 'Lane 3: 2nd place @2.5953', 'Lane 5: 3rd place @2.6150', 'Lane 7: 4th place @2.6174', 'Lane 1: 5th place @2.6219', 'Lane 4: 6th place @2.6506', 'Lane 2: 7th place @2.6752'],\n",
        " ['Lane 4: 1st place @2.5749', 'Lane 1: 2nd place @2.5777', 'Lane 3: 3rd place @2.5886', 'Lane 6: 4th place @2.5898', 'Lane 7: 5th place @2.5967', 'Lane 5: 6th place @2.6029', 'Lane 2: 7th place @2.6106'],\n",
        " ['Lane 3: 1st place @2.5700', 'Lane 4: 2nd place @2.5860', 'Lane 7: 3rd place @2.5930', 'Lane 5: 4th place @2.5953', 'Lane 6: 5th place @2.6009', 'Lane 2: 6th place @2.6087', 'Lane 1: 7th place @2.6359'],\n",
        " ['Lane 2: 1st place @2.6646', 'Lane 5: 2nd place @2.7198', 'Lane 6: 3rd place @2.7406', 'Lane 1: 4th place @2.7554', 'Lane 7: 5th place @2.7758', 'Lane 4: 6th place @2.8537', 'Lane 3: 7th place @2.9348'],\n",
        " ['Lane 7: 1st place @2.6487', 'Lane 4: 2nd place @2.6501', 'Lane 6: 3rd place @2.6569', 'Lane 2: 4th place @2.6766', 'Lane 1: 5th place @2.6996', 'Lane 3: 6th place @2.7073', 'Lane 5: 7th place @2.7284'],\n",
        " ['Lane 2: 1st place @2.5993', 'Lane 7: 2nd place @2.6063', 'Lane 6: 3rd place @2.6278', 'Lane 1: 4th place @2.6389', 'Lane 4: 5th place @2.6822', 'Lane 5: 6th place @2.6941', 'Lane 3: 7th place @2.7064'],\n",
        " ['Lane 7: 1st place @2.6005', 'Lane 3: 2nd place @2.6022', 'Lane 4: 3rd place @2.6124', 'Lane 1: 4th place @2.6205', 'Lane 5: 5th place @2.6522', 'Lane 6: 6th place @2.6596', 'Lane 2: 7th place @2.6620'],\n",
        " ['Lane 5: 1st place @2.5822', 'Lane 3: 2nd place @2.5950', 'Lane 4: 3rd place @2.5981', 'Lane 1: 4th place @2.6002', 'Lane 2: 5th place @2.6012', 'Lane 6: 6th place @2.6045', 'Lane 7: 7th place @2.6063'],\n",
        " ['Lane 3: 1st place @2.5569', 'Lane 2: 2nd place @2.5722', 'Lane 1: 3rd place @2.5749', 'Lane 4: 4th place @2.5780', 'Lane 7: 5th place @2.5825', 'Lane 6: 6th place @2.6151', 'Lane 5: 7th place @2.6255'],\n",
        " ['Lane 7: 1st place @2.7343', 'Lane 6: 2nd place @2.7497', 'Lane 1: 3rd place @2.7603', 'Lane 2: 4th place @2.7651', 'Lane 3: 5th place @2.7682', 'Lane 5: 6th place @2.8523', 'Lane 4: 7th place @2.9266'],\n",
        " ['Lane 3: 1st place @2.6185', 'Lane 2: 2nd place @2.6387', 'Lane 1: 3rd place @2.6949', 'Lane 7: 4th place @2.7205', 'Lane 5: 5th place @2.7354', 'Lane 6: 6th place @2.7367', 'Lane 4: 7th place @2.7590'],\n",
        " ['Lane 1: 1st place @2.6022', 'Lane 7: 2nd place @2.6024', 'Lane 3: 3rd place @2.6339', 'Lane 4: 4th place @2.6367', 'Lane 6: 5th place @2.6418', 'Lane 5: 6th place @2.6568', 'Lane 2: 7th place @2.6785'],\n",
        " ['Lane 7: 1st place @2.5889', 'Lane 4: 2nd place @2.5940', 'Lane 6: 3rd place @2.6093', 'Lane 3: 4th place @2.6149', 'Lane 2: 5th place @2.6239', 'Lane 5: 6th place @2.6295', 'Lane 1: 7th place @2.6447'],\n",
        " ['Lane 7: 1st place @2.5907', 'Lane 2: 2nd place @2.5947', 'Lane 1: 3rd place @2.6062', 'Lane 3: 4th place @2.6172', 'Lane 5: 5th place @2.6183', 'Lane 6: 6th place @2.6322', 'Lane 4: 7th place @2.6352'],\n",
        " ['Lane 2: 1st place @2.5618', 'Lane 1: 2nd place @2.5650', 'Lane 4: 3rd place @2.5747', 'Lane 3: 4th place @2.5756', 'Lane 5: 5th place @2.5933', 'Lane 7: 6th place @2.5951', 'Lane 6: 7th place @2.6176'],\n",
        " ['Lane 1: 1st place @2.7086', 'Lane 3: 2nd place @2.7519', 'Lane 4: 3rd place @2.7605', 'Lane 7: 4th place @2.7730', 'Lane 2: 5th place @2.7807', 'Lane 6: 6th place @2.8163', 'Lane 5: 7th place @2.8255'],\n",
        " ['Lane 4: 1st place @2.6491', 'Lane 7: 2nd place @2.6514', 'Lane 1: 3rd place @2.6665', 'Lane 2: 4th place @2.6752', 'Lane 5: 5th place @2.7316', 'Lane 6: 6th place @2.7406', 'Lane 3: 7th place @2.7492'],\n",
        " ['Lane 4: 1st place @2.6067', 'Lane 1: 2nd place @2.6139', 'Lane 6: 3rd place @2.6242', 'Lane 5: 4th place @2.6308', 'Lane 3: 5th place @2.6363', 'Lane 7: 6th place @2.6674', 'Lane 2: 7th place @2.6763'],\n",
        " ['Lane 3: 1st place @2.5874', 'Lane 1: 2nd place @2.5954', 'Lane 2: 3rd place @2.5985', 'Lane 4: 4th place @2.6160', 'Lane 5: 5th place @2.6207', 'Lane 7: 6th place @2.6362', 'Lane 6: 7th place @2.6954'],\n",
        " ['Lane 1: 1st place @2.5713', 'Lane 4: 2nd place @2.5941', 'Lane 2: 3rd place @2.6025', 'Lane 6: 4th place @2.6044', 'Lane 3: 5th place @2.6331', 'Lane 5: 6th place @2.6340', 'Lane 7: 7th place @2.6855'],\n",
        " ['Lane 4: 1st place @2.5543', 'Lane 3: 2nd place @2.5563', 'Lane 2: 3rd place @2.5712', 'Lane 6: 4th place @2.5726', 'Lane 1: 5th place @2.5786', 'Lane 5: 6th place @2.5847', 'Lane 7: 7th place @2.5913'],\n",
        " ['Lane 4: 1st place @2.7132', 'Lane 2: 2nd place @2.7338', 'Lane 5: 3rd place @2.7560', 'Lane 1: 4th place @2.7626', 'Lane 3: 5th place @2.7794', 'Lane 7: 6th place @2.8062', 'Lane 6: 7th place @2.9130'],\n",
        " ['Lane 5: 1st place @2.6427', 'Lane 7: 2nd place @2.6728', 'Lane 4: 3rd place @2.6758', 'Lane 6: 4th place @2.6868', 'Lane 2: 5th place @2.6911', 'Lane 3: 6th place @2.7286', 'Lane 1: 7th place @2.7483'],\n",
        " ['Lane 4: 1st place @2.6267', 'Lane 6: 2nd place @2.6304', 'Lane 3: 3rd place @2.6382', 'Lane 2: 4th place @2.6398', 'Lane 5: 5th place @2.6529', 'Lane 7: 6th place @2.7256', 'Lane 1: 7th place @2.7533'],\n",
        " ['Lane 4: 1st place @2.5838', 'Lane 3: 2nd place @2.6045', 'Lane 1: 3rd place @2.6080', 'Lane 7: 4th place @2.6225', 'Lane 5: 5th place @2.6252', 'Lane 6: 6th place @2.6304', 'Lane 2: 7th place @2.6502'],\n",
        " ['Lane 4: 1st place @2.5788', 'Lane 3: 2nd place @2.5874', 'Lane 2: 3rd place @2.5931', 'Lane 1: 4th place @2.5994', 'Lane 7: 5th place @2.6013', 'Lane 5: 6th place @2.6104', 'Lane 6: 7th place @2.6355'],\n",
        " ['Lane 7: 1st place @2.5820', 'Lane 3: 2nd place @2.5849', 'Lane 4: 3rd place @2.5852', 'Lane 2: 4th place @2.5857', 'Lane 1: 5th place @2.5882', 'Lane 5: 6th place @2.5946', 'Lane 6: 7th place @2.6488'],\n",
        " ['Lane 6: 1st place @2.6450', 'Lane 2: 2nd place @2.7309', 'Lane 5: 3rd place @2.7398', 'Lane 3: 4th place @2.7533', 'Lane 4: 5th place @2.7602', 'Lane 1: 6th place @2.8489', 'Lane 7: 7th place @2.8997'],\n",
        " ['Lane 5: 1st place @2.6074', 'Lane 4: 2nd place @2.6886', 'Lane 7: 3rd place @2.7001', 'Lane 3: 4th place @2.7139', 'Lane 6: 5th place @2.7401', 'Lane 2: 6th place @2.7411', 'Lane 1: 7th place @2.8140'],\n",
        " ['Lane 5: 1st place @2.5794', 'Lane 6: 2nd place @2.6167', 'Lane 1: 3rd place @2.6196', 'Lane 7: 4th place @2.6359', 'Lane 4: 5th place @2.6496', 'Lane 2: 6th place @2.6640', 'Lane 3: 7th place @2.7133'],\n",
        " ['Lane 4: 1st place @2.5809', 'Lane 3: 2nd place @2.5920', 'Lane 6: 3rd place @2.6263', 'Lane 5: 4th place @2.6339', 'Lane 2: 5th place @2.6529', 'Lane 1: 6th place @2.6647', 'Lane 7: 7th place @2.6736'],\n",
        " ['Lane 1: 1st place @2.5873', 'Lane 3: 2nd place @2.5972', 'Lane 4: 3rd place @2.6001', 'Lane 5: 4th place @2.6030', 'Lane 6: 5th place @2.6038', 'Lane 2: 6th place @2.6214', 'Lane 7: 7th place @2.7567'],\n",
        " ['Lane 1: 1st place @2.5710', 'Lane 7: 2nd place @2.5759', 'Lane 3: 3rd place @2.5816', 'Lane 5: 4th place @2.5858', 'Lane 4: 5th place @2.5882', 'Lane 6: 6th place @2.6010', 'Lane 2: 7th place @2.6105'],\n",
        " ['Lane 5: 1st place @2.7091', 'Lane 4: 2nd place @2.7304', 'Lane 6: 3rd place @2.7550', 'Lane 7: 4th place @2.7799', 'Lane 3: 5th place @2.7878', 'Lane 2: 6th place @2.8251', 'Lane 1: 7th place @2.8271'],\n",
        " ['Lane 1: 1st place @2.5603', 'Lane 4: 2nd place @2.6540', 'Lane 7: 3rd place @2.6961', 'Lane 6: 4th place @2.7015', 'Lane 3: 5th place @2.7313', 'Lane 5: 6th place @2.7462', 'Lane 2: 7th place @2.7671'],\n",
        " ['Lane 6: 1st place @2.5982', 'Lane 2: 2nd place @2.6164', 'Lane 3: 3rd place @2.6303', 'Lane 5: 4th place @2.6499', 'Lane 4: 5th place @2.6628', 'Lane 7: 6th place @2.6938', 'Lane 1: 7th place @2.7583'],\n",
        " ['Lane 4: 1st place @2.6010', 'Lane 2: 2nd place @2.6143', 'Lane 7: 3rd place @2.6167', 'Lane 3: 4th place @2.6168', 'Lane 5: 5th place @2.6215', 'Lane 1: 6th place @2.6292', 'Lane 6: 7th place @2.6402'],\n",
        " ['Lane 5: 1st place @2.5877', 'Lane 3: 2nd place @2.5921', 'Lane 7: 3rd place @2.5983', 'Lane 4: 4th place @2.5996', 'Lane 1: 5th place @2.6054', 'Lane 2: 6th place @2.6137', 'Lane 6: 7th place @2.6195'],\n",
        " ['Lane 6: 1st place @2.5711', 'Lane 1: 2nd place @2.5880', 'Lane 3: 3rd place @2.5914', 'Lane 7: 4th place @2.5932', 'Lane 2: 5th place @2.5946', 'Lane 5: 6th place @2.6027', 'Lane 4: 7th place @3.4563']]"
       ]
      }
     ],
     "prompt_number": 9
    },
    {
     "cell_type": "code",
     "collapsed": false,
     "input": [],
     "language": "python",
     "metadata": {},
     "outputs": []
    }
   ],
   "metadata": {}
  }
 ]
}