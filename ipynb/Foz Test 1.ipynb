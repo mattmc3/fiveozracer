{
 "metadata": {
  "name": ""
 },
 "nbformat": 3,
 "nbformat_minor": 0,
 "worksheets": [
  {
   "cells": [
    {
     "cell_type": "code",
     "collapsed": false,
     "input": [
      "# imports\n",
      "import Foz\n",
      "from Foz import read_racers, read_timer_results\n",
      "from collections import namedtuple, OrderedDict\n",
      "import math\n",
      "from decimal import Decimal\n",
      "import copy\n",
      "from pprint import pprint\n",
      "from asq.initiators import query"
     ],
     "language": "python",
     "metadata": {},
     "outputs": [],
     "prompt_number": 1
    },
    {
     "cell_type": "code",
     "collapsed": false,
     "input": [
      "all_racers = read_racers()\n",
      "all_racers"
     ],
     "language": "python",
     "metadata": {},
     "outputs": [
      {
       "metadata": {},
       "output_type": "pyout",
       "prompt_number": 30,
       "text": [
        "[01 - Brendan Meloun,\n",
        " 02 - Keegan Meloun,\n",
        " 03 - Dillon Miller,\n",
        " 04 - Evan Conkle,\n",
        " 05 - Jack Anderson,\n",
        " 06 - Ben Spires,\n",
        " 07 - Caleb Sark,\n",
        " 08 - Timothy Govenor,\n",
        " 09 - Dan Ferguson,\n",
        " 10 - Christopher Govenor,\n",
        " 11 - Zane Torbert,\n",
        " 12 - Joey Sanderell,\n",
        " 13 - Nick Sanderell,\n",
        " 14 - Charlie Limbert,\n",
        " 15 - Victor Lockwood,\n",
        " 16 - Joseph DiPalma,\n",
        " 17 - Preston Phillips,\n",
        " 18 - Matt Stepian,\n",
        " 19 - Jimmy Deluca,\n",
        " 20 - Hayden Kernosky,\n",
        " 21 - Anthony Phillips,\n",
        " 22 - Alex Ruhe,\n",
        " 23 - Paul Roginski,\n",
        " 24 - Jack Engram,\n",
        " 25 - Kevin Bray,\n",
        " 26 - Joseph Hite,\n",
        " 27 - Robbie Hite,\n",
        " 28 - Ben Boyle,\n",
        " 29 - John Spencer,\n",
        " 30 - Andrew Fleming,\n",
        " 31 - Marcello Brogan,\n",
        " 32 - John Rice,\n",
        " 33 - Grant Rice,\n",
        " 34 - Thomas Rice,\n",
        " 35 - Easton Kernosky,\n",
        " 36 - Augustus Read,\n",
        " 37 - Donovan Timm,\n",
        " 38 - Mark Deleo,\n",
        " 39 - Devin Miller,\n",
        " 40 - Jacob Donahue,\n",
        " 93 - Adult Leader,\n",
        " 83 - Alison Rose,\n",
        " 91 - Adult Leader2]"
       ]
      }
     ],
     "prompt_number": 30
    },
    {
     "cell_type": "code",
     "collapsed": false,
     "input": [
      "all_timer_results = read_timer_results()\n",
      "all_timer_results"
     ],
     "language": "python",
     "metadata": {},
     "outputs": [
      {
       "metadata": {},
       "output_type": "pyout",
       "prompt_number": 31,
       "text": [
        "[['6 2.5854', '7 2.5874', '4 2.6130', '5 2.6143', '2 2.6717', '1 2.7175', '3 2.7606'],\n",
        " ['2 2.5705', '1 2.5919', '6 2.6023', '5 2.6067', '7 2.6530', '4 2.6566', '3 2.6673'],\n",
        " ['5 2.5986', '4 2.6033', '3 2.6187', '1 2.6274', '6 2.6545', '7 2.7408', '2 2.9042'],\n",
        " ['4 2.6039', '7 2.6201', '6 2.6248', '3 2.6520', '5 2.6987', '1 2.7179', '2 2.7927'],\n",
        " ['1 2.5933', '5 2.6185', '2 2.6317', '3 2.6838', '6 2.6940', '7 2.6978', '4 2.7850'],\n",
        " ['5 2.5975', '3 2.6037', '1 2.6103', '6 2.6605', '2 2.7007', '4 2.7371', '7 2.7515'],\n",
        " ['3 2.6405', '7 2.7282', '1 2.7557', '2 2.7701', '6 2.7742', '4 2.9160', '5 2.9327'],\n",
        " ['2 2.6529', '7 2.6796', '4 2.6832', '5 2.6875', '3 2.7040', '1 2.7466', '6 2.8037'],\n",
        " ['1 2.5793', '3 2.6192', '7 2.6209', '6 2.6270', '4 2.6404', '5 2.6997', '2 2.7108'],\n",
        " ['6 2.5695', '3 2.5953', '5 2.6150', '7 2.6174', '1 2.6219', '4 2.6506', '2 2.6752'],\n",
        " ['4 2.5749', '1 2.5777', '3 2.5886', '6 2.5898', '7 2.5967', '5 2.6029', '2 2.6106'],\n",
        " ['3 2.5700', '4 2.5860', '7 2.5930', '5 2.5953', '6 2.6009', '2 2.6087', '1 2.6359'],\n",
        " ['2 2.6646', '5 2.7198', '6 2.7406', '1 2.7554', '7 2.7758', '4 2.8537', '3 2.9348'],\n",
        " ['7 2.6487', '4 2.6501', '6 2.6569', '2 2.6766', '1 2.6996', '3 2.7073', '5 2.7284'],\n",
        " ['2 2.5993', '7 2.6063', '6 2.6278', '1 2.6389', '4 2.6822', '5 2.6941', '3 2.7064'],\n",
        " ['7 2.6005', '3 2.6022', '4 2.6124', '1 2.6205', '5 2.6522', '6 2.6596', '2 2.6620'],\n",
        " ['5 2.5822', '3 2.5950', '4 2.5981', '1 2.6002', '2 2.6012', '6 2.6045', '7 2.6063'],\n",
        " ['3 2.5569', '2 2.5722', '1 2.5749', '4 2.5780', '7 2.5825', '6 2.6151', '5 2.6255'],\n",
        " ['7 2.7343', '6 2.7497', '1 2.7603', '2 2.7651', '3 2.7682', '5 2.8523', '4 2.9266'],\n",
        " ['3 2.6185', '2 2.6387', '1 2.6949', '7 2.7205', '5 2.7354', '6 2.7367', '4 2.7590'],\n",
        " ['1 2.6022', '7 2.6024', '3 2.6339', '4 2.6367', '6 2.6418', '5 2.6568', '2 2.6785'],\n",
        " ['7 2.5889', '4 2.5940', '6 2.6093', '3 2.6149', '2 2.6239', '5 2.6295', '1 2.6447'],\n",
        " ['7 2.5907', '2 2.5947', '1 2.6062', '3 2.6172', '5 2.6183', '6 2.6322', '4 2.6352'],\n",
        " ['2 2.5618', '1 2.5650', '4 2.5747', '3 2.5756', '5 2.5933', '7 2.5951', '6 2.6176'],\n",
        " ['1 2.7086', '3 2.7519', '4 2.7605', '7 2.7730', '2 2.7807', '6 2.8163', '5 2.8255'],\n",
        " ['4 2.6491', '7 2.6514', '1 2.6665', '2 2.6752', '5 2.7316', '6 2.7406', '3 2.7492'],\n",
        " ['4 2.6067', '1 2.6139', '6 2.6242', '5 2.6308', '3 2.6363', '7 2.6674', '2 2.6763'],\n",
        " ['3 2.5874', '1 2.5954', '2 2.5985', '4 2.6160', '5 2.6207', '7 2.6362', '6 2.6954'],\n",
        " ['1 2.5713', '4 2.5941', '2 2.6025', '6 2.6044', '3 2.6331', '5 2.6340', '7 2.6855'],\n",
        " ['4 2.5543', '3 2.5563', '2 2.5712', '6 2.5726', '1 2.5786', '5 2.5847', '7 2.5913'],\n",
        " ['4 2.7132', '2 2.7338', '5 2.7560', '1 2.7626', '3 2.7794', '7 2.8062', '6 2.9130'],\n",
        " ['5 2.6427', '7 2.6728', '4 2.6758', '6 2.6868', '2 2.6911', '3 2.7286', '1 2.7483'],\n",
        " ['4 2.6267', '6 2.6304', '3 2.6382', '2 2.6398', '5 2.6529', '7 2.7256', '1 2.7533'],\n",
        " ['4 2.5838', '3 2.6045', '1 2.6080', '7 2.6225', '5 2.6252', '6 2.6304', '2 2.6502'],\n",
        " ['4 2.5788', '3 2.5874', '2 2.5931', '1 2.5994', '7 2.6013', '5 2.6104', '6 2.6355'],\n",
        " ['7 2.5820', '3 2.5849', '4 2.5852', '2 2.5857', '1 2.5882', '5 2.5946', '6 2.6488'],\n",
        " ['6 2.6450', '2 2.7309', '5 2.7398', '3 2.7533', '4 2.7602', '1 2.8489', '7 2.8997'],\n",
        " ['5 2.6074', '4 2.6886', '7 2.7001', '3 2.7139', '6 2.7401', '2 2.7411', '1 2.8140'],\n",
        " ['5 2.5794', '6 2.6167', '1 2.6196', '7 2.6359', '4 2.6496', '2 2.6640', '3 2.7133'],\n",
        " ['4 2.5809', '3 2.5920', '6 2.6263', '5 2.6339', '2 2.6529', '1 2.6647', '7 2.6736'],\n",
        " ['1 2.5873', '3 2.5972', '4 2.6001', '5 2.6030', '6 2.6038', '2 2.6214', '7 2.7567'],\n",
        " ['1 2.5710', '7 2.5759', '3 2.5816', '5 2.5858', '4 2.5882', '6 2.6010', '2 2.6105'],\n",
        " ['5 2.7091', '4 2.7304', '6 2.7550', '7 2.7799', '3 2.7878', '2 2.8251', '1 2.8271'],\n",
        " ['1 2.5603', '4 2.6540', '7 2.6961', '6 2.7015', '3 2.7313', '5 2.7462', '2 2.7671'],\n",
        " ['6 2.5982', '2 2.6164', '3 2.6303', '5 2.6499', '4 2.6628', '7 2.6938', '1 2.7583'],\n",
        " ['4 2.6010', '2 2.6143', '7 2.6167', '3 2.6168', '5 2.6215', '1 2.6292', '6 2.6402'],\n",
        " ['5 2.5877', '3 2.5921', '7 2.5983', '4 2.5996', '1 2.6054', '2 2.6137', '6 2.6195'],\n",
        " ['6 2.5711', '1 2.5880', '3 2.5914', '7 2.5932', '2 2.5946', '5 2.6027', '4 3.4563']]"
       ]
      }
     ],
     "prompt_number": 31
    },
    {
     "cell_type": "code",
     "collapsed": false,
     "input": [
      "util = Foz.DerbyUtil()\n",
      "racers_by_group = util.get_racers_by_group(all_racers)\n",
      "bbg = util.get_byes_by_group(all_racers, 7)\n",
      "print(racers_by_group)\n",
      "print()\n",
      "print(bbg)"
     ],
     "language": "python",
     "metadata": {},
     "outputs": [
      {
       "output_type": "stream",
       "stream": "stdout",
       "text": [
        "OrderedDict([(scouts, [13 - Nick Sanderell, 14 - Charlie Limbert, 27 - Robbie Hite, 32 - John Rice, 33 - Grant Rice, 34 - Thomas Rice, 36 - Augustus Read, 37 - Donovan Timm, 39 - Devin Miller, 01 - Brendan Meloun, 03 - Dillon Miller, 06 - Ben Spires, 10 - Christopher Govenor, 16 - Joseph DiPalma, 17 - Preston Phillips, 19 - Jimmy Deluca, 20 - Hayden Kernosky, 24 - Jack Engram, 28 - Ben Boyle, 29 - John Spencer, 31 - Marcello Brogan, 35 - Easton Kernosky, 05 - Jack Anderson, 07 - Caleb Sark, 18 - Matt Stepian, 22 - Alex Ruhe, 40 - Jacob Donahue, 02 - Keegan Meloun, 04 - Evan Conkle, 08 - Timothy Govenor, 09 - Dan Ferguson, 11 - Zane Torbert, 12 - Joey Sanderell, 15 - Victor Lockwood, 21 - Anthony Phillips, 23 - Paul Roginski, 25 - Kevin Bray, 26 - Joseph Hite, 30 - Andrew Fleming, 38 - Mark Deleo]), (family/friends, [83 - Alison Rose]), (old timers, [91 - Adult Leader2, 93 - Adult Leader])])\n",
        "\n",
        "OrderedDict([(scouts, [998 - Bye scouts #1, 999 - Bye scouts #2]), (family/friends, [992 - Bye family/friends #1, 993 - Bye family/friends #2, 994 - Bye family/friends #3, 995 - Bye family/friends #4, 996 - Bye family/friends #5, 997 - Bye family/friends #6]), (old timers, [987 - Bye old timers #1, 988 - Bye old timers #2, 989 - Bye old timers #3, 990 - Bye old timers #4, 991 - Bye old timers #5])])\n"
       ]
      }
     ],
     "prompt_number": 41
    },
    {
     "cell_type": "code",
     "collapsed": false,
     "input": [
      "for (k,v) in racers_by_group.items():\n",
      "    print(v)"
     ],
     "language": "python",
     "metadata": {},
     "outputs": [
      {
       "output_type": "stream",
       "stream": "stdout",
       "text": [
        "[13 - Nick Sanderell, 14 - Charlie Limbert, 27 - Robbie Hite, 32 - John Rice, 33 - Grant Rice, 34 - Thomas Rice, 36 - Augustus Read, 37 - Donovan Timm, 39 - Devin Miller, 01 - Brendan Meloun, 03 - Dillon Miller, 06 - Ben Spires, 10 - Christopher Govenor, 16 - Joseph DiPalma, 17 - Preston Phillips, 19 - Jimmy Deluca, 20 - Hayden Kernosky, 24 - Jack Engram, 28 - Ben Boyle, 29 - John Spencer, 31 - Marcello Brogan, 35 - Easton Kernosky, 05 - Jack Anderson, 07 - Caleb Sark, 18 - Matt Stepian, 22 - Alex Ruhe, 40 - Jacob Donahue, 02 - Keegan Meloun, 04 - Evan Conkle, 08 - Timothy Govenor, 09 - Dan Ferguson, 11 - Zane Torbert, 12 - Joey Sanderell, 15 - Victor Lockwood, 21 - Anthony Phillips, 23 - Paul Roginski, 25 - Kevin Bray, 26 - Joseph Hite, 30 - Andrew Fleming, 38 - Mark Deleo]\n",
        "[83 - Alison Rose]\n",
        "[91 - Adult Leader2, 93 - Adult Leader]\n"
       ]
      }
     ],
     "prompt_number": 44
    },
    {
     "cell_type": "raw",
     "metadata": {},
     "source": [
      "[\n",
      "{\n",
      "    Racer: racer,\n",
      "    RaceInfo: [\n",
      "        {\n",
      "            race_num: 1,\n",
      "            round_num: 1,\n",
      "            heat_num: 1,\n",
      "            lane_num: 1,\n",
      "            timer_result: 2.1234\n",
      "            place: 1\n",
      "        },\n",
      "        {\n",
      "            race_num: 7,\n",
      "            round_num: 2,\n",
      "            heat_num: 3,\n",
      "            lane_num: 5,\n",
      "            timer_result: 2.7897\n",
      "            place: 1\n",
      "        },\n",
      "    ]\n",
      "}\n",
      "]\n"
     ]
    },
    {
     "cell_type": "code",
     "collapsed": false,
     "input": [
      "all_racers[0].racing_group.key"
     ],
     "language": "python",
     "metadata": {},
     "outputs": [
      {
       "metadata": {},
       "output_type": "pyout",
       "prompt_number": 22,
       "text": [
        "1"
       ]
      }
     ],
     "prompt_number": 22
    },
    {
     "cell_type": "code",
     "collapsed": false,
     "input": [
      "def _my_get_racers_by_group(racers):\n",
      "        qry = query(racers) \\\n",
      "            .order_by(lambda x: x.racing_group.key) \\\n",
      "            .then_by(lambda x: x.grade.grade_num) \\\n",
      "            .then_by(lambda x: x.car_num) \\\n",
      "            .group_by(lambda x: x.racing_group)\n",
      "        result = OrderedDict()\n",
      "        for g in qry:\n",
      "            result[g.key] = [{'racer': x, 'lane_assignments': []} for x in list(g)]\n",
      "        return result\n",
      "\n",
      "\n",
      "racers = [{'racing_group': x.racing_group, 'racer': x, 'lane_assignments': []} for x in all_racers]\n",
      "#racers\n",
      "pprint(_my_get_racers_by_group(all_racers))"
     ],
     "language": "python",
     "metadata": {},
     "outputs": [
      {
       "output_type": "stream",
       "stream": "stdout",
       "text": [
        "{scouts: [{'lane_assignments': [], 'racer': 13 - Nick Sanderell},\n",
        "          {'lane_assignments': [], 'racer': 14 - Charlie Limbert},\n",
        "          {'lane_assignments': [], 'racer': 27 - Robbie Hite},\n",
        "          {'lane_assignments': [], 'racer': 32 - John Rice},\n",
        "          {'lane_assignments': [], 'racer': 33 - Grant Rice},\n",
        "          {'lane_assignments': [], 'racer': 34 - Thomas Rice},\n",
        "          {'lane_assignments': [], 'racer': 36 - Augustus Read},\n",
        "          {'lane_assignments': [], 'racer': 37 - Donovan Timm},\n",
        "          {'lane_assignments': [], 'racer': 39 - Devin Miller},\n",
        "          {'lane_assignments': [], 'racer': 01 - Brendan Meloun},\n",
        "          {'lane_assignments': [], 'racer': 03 - Dillon Miller},\n",
        "          {'lane_assignments': [], 'racer': 06 - Ben Spires},\n",
        "          {'lane_assignments': [], 'racer': 10 - Christopher Govenor},\n",
        "          {'lane_assignments': [], 'racer': 16 - Joseph DiPalma},\n",
        "          {'lane_assignments': [], 'racer': 17 - Preston Phillips},\n",
        "          {'lane_assignments': [], 'racer': 19 - Jimmy Deluca},\n",
        "          {'lane_assignments': [], 'racer': 20 - Hayden Kernosky},\n",
        "          {'lane_assignments': [], 'racer': 24 - Jack Engram},\n",
        "          {'lane_assignments': [], 'racer': 28 - Ben Boyle},\n",
        "          {'lane_assignments': [], 'racer': 29 - John Spencer},\n",
        "          {'lane_assignments': [], 'racer': 31 - Marcello Brogan},\n",
        "          {'lane_assignments': [], 'racer': 35 - Easton Kernosky},\n",
        "          {'lane_assignments': [], 'racer': 05 - Jack Anderson},\n",
        "          {'lane_assignments': [], 'racer': 07 - Caleb Sark},\n",
        "          {'lane_assignments': [], 'racer': 18 - Matt Stepian},\n",
        "          {'lane_assignments': [], 'racer': 22 - Alex Ruhe},\n",
        "          {'lane_assignments': [], 'racer': 40 - Jacob Donahue},\n",
        "          {'lane_assignments': [], 'racer': 02 - Keegan Meloun},\n",
        "          {'lane_assignments': [], 'racer': 04 - Evan Conkle},\n",
        "          {'lane_assignments': [], 'racer': 08 - Timothy Govenor},\n",
        "          {'lane_assignments': [], 'racer': 09 - Dan Ferguson},\n",
        "          {'lane_assignments': [], 'racer': 11 - Zane Torbert},\n",
        "          {'lane_assignments': [], 'racer': 12 - Joey Sanderell},\n",
        "          {'lane_assignments': [], 'racer': 15 - Victor Lockwood},\n",
        "          {'lane_assignments': [], 'racer': 21 - Anthony Phillips},\n",
        "          {'lane_assignments': [], 'racer': 23 - Paul Roginski},\n",
        "          {'lane_assignments': [], 'racer': 25 - Kevin Bray},\n",
        "          {'lane_assignments': [], 'racer': 26 - Joseph Hite},\n",
        "          {'lane_assignments': [], 'racer': 30 - Andrew Fleming},\n",
        "          {'lane_assignments': [], 'racer': 38 - Mark Deleo}],\n",
        " family/friends: [{'lane_assignments': [], 'racer': 83 - Alison Rose}],\n",
        " old timers: [{'lane_assignments': [], 'racer': 91 - Adult Leader2},\n",
        "              {'lane_assignments': [], 'racer': 93 - Adult Leader}]}\n"
       ]
      }
     ],
     "prompt_number": 37
    },
    {
     "cell_type": "code",
     "collapsed": false,
     "input": [
      "race_num = 7\n",
      "lane_num = 3\n",
      "[x for x in all_timer_results[race_num - 1].times if x.lane_num == lane_num]"
     ],
     "language": "python",
     "metadata": {},
     "outputs": [
      {
       "metadata": {},
       "output_type": "pyout",
       "prompt_number": 12,
       "text": [
        "[Lane 3: 1st place @2.6405]"
       ]
      }
     ],
     "prompt_number": 12
    },
    {
     "cell_type": "code",
     "collapsed": false,
     "input": [
      "get_timer_result = lambda race_num, lane_num: [x for x in tr[race_num - 1].times if x.lane_num == lane_num][0]\n",
      "racer_results = copy.deepcopy(racers)\n",
      "for r in racer_results:\n",
      "    r['race_results'] = r.pop('lane_assignments')\n",
      "    for rr in r['race_results']:\n",
      "        timer_result = get_timer_result(rr['race_num'], rr['lane_num'])\n",
      "        rr['place'] = timer_result.place\n",
      "        rr['time'] = timer_result.time\n",
      "\n",
      "pprint(racer_results)\n",
      "\n",
      "\n",
      "#sum_timer_result = lambda my_timer_results: sum(x.time for x in my_timer_results)\n",
      "#get_race_and_lane = lambda race_results: [(x['race_num'], x['lane_num']) for x in race_results]\n",
      "#get_timer_result = lambda race_num, lane_num: [x for x in tr[race_num - 1].times if x.lane_num == lane_num]\n",
      "\n",
      "#sum_timer_result = lambda x: sum([y['timer_result'] for y in x['race_results']])\n",
      "\n",
      "#standings = [Standings(x[0], x[1]['racer'], sum_timer_result(x[1])) for x in enumerate(racers)]\n",
      "#standings\n",
      "#get_timer_result(7, 5)\n",
      "#la = racers[2]['lane_assignment']\n",
      "#get_race_and_lane(la)"
     ],
     "language": "python",
     "metadata": {},
     "outputs": [
      {
       "output_type": "stream",
       "stream": "stdout",
       "text": [
        "[{'race_results': [], 'racer': 01 - Brendan Meloun, 'racing_group': scouts},\n",
        " {'race_results': [], 'racer': 02 - Keegan Meloun, 'racing_group': scouts},\n",
        " {'race_results': [], 'racer': 03 - Dillon Miller, 'racing_group': scouts},\n",
        " {'race_results': [], 'racer': 04 - Evan Conkle, 'racing_group': scouts},\n",
        " {'race_results': [], 'racer': 05 - Jack Anderson, 'racing_group': scouts},\n",
        " {'race_results': [], 'racer': 06 - Ben Spires, 'racing_group': scouts},\n",
        " {'race_results': [], 'racer': 07 - Caleb Sark, 'racing_group': scouts},\n",
        " {'race_results': [], 'racer': 08 - Timothy Govenor, 'racing_group': scouts},\n",
        " {'race_results': [], 'racer': 09 - Dan Ferguson, 'racing_group': scouts},\n",
        " {'race_results': [],\n",
        "  'racer': 10 - Christopher Govenor,\n",
        "  'racing_group': scouts},\n",
        " {'race_results': [], 'racer': 11 - Zane Torbert, 'racing_group': scouts},\n",
        " {'race_results': [], 'racer': 12 - Joey Sanderell, 'racing_group': scouts},\n",
        " {'race_results': [], 'racer': 13 - Nick Sanderell, 'racing_group': scouts},\n",
        " {'race_results': [], 'racer': 14 - Charlie Limbert, 'racing_group': scouts},\n",
        " {'race_results': [], 'racer': 15 - Victor Lockwood, 'racing_group': scouts},\n",
        " {'race_results': [], 'racer': 16 - Joseph DiPalma, 'racing_group': scouts},\n",
        " {'race_results': [], 'racer': 17 - Preston Phillips, 'racing_group': scouts},\n",
        " {'race_results': [], 'racer': 18 - Matt Stepian, 'racing_group': scouts},\n",
        " {'race_results': [], 'racer': 19 - Jimmy Deluca, 'racing_group': scouts},\n",
        " {'race_results': [], 'racer': 20 - Hayden Kernosky, 'racing_group': scouts},\n",
        " {'race_results': [], 'racer': 21 - Anthony Phillips, 'racing_group': scouts},\n",
        " {'race_results': [], 'racer': 22 - Alex Ruhe, 'racing_group': scouts},\n",
        " {'race_results': [], 'racer': 23 - Paul Roginski, 'racing_group': scouts},\n",
        " {'race_results': [], 'racer': 24 - Jack Engram, 'racing_group': scouts},\n",
        " {'race_results': [], 'racer': 25 - Kevin Bray, 'racing_group': scouts},\n",
        " {'race_results': [], 'racer': 26 - Joseph Hite, 'racing_group': scouts},\n",
        " {'race_results': [], 'racer': 27 - Robbie Hite, 'racing_group': scouts},\n",
        " {'race_results': [], 'racer': 28 - Ben Boyle, 'racing_group': scouts},\n",
        " {'race_results': [], 'racer': 29 - John Spencer, 'racing_group': scouts},\n",
        " {'race_results': [], 'racer': 30 - Andrew Fleming, 'racing_group': scouts},\n",
        " {'race_results': [], 'racer': 31 - Marcello Brogan, 'racing_group': scouts},\n",
        " {'race_results': [], 'racer': 32 - John Rice, 'racing_group': scouts},\n",
        " {'race_results': [], 'racer': 33 - Grant Rice, 'racing_group': scouts},\n",
        " {'race_results': [], 'racer': 34 - Thomas Rice, 'racing_group': scouts},\n",
        " {'race_results': [], 'racer': 35 - Easton Kernosky, 'racing_group': scouts},\n",
        " {'race_results': [], 'racer': 36 - Augustus Read, 'racing_group': scouts},\n",
        " {'race_results': [], 'racer': 37 - Donovan Timm, 'racing_group': scouts},\n",
        " {'race_results': [], 'racer': 38 - Mark Deleo, 'racing_group': scouts},\n",
        " {'race_results': [], 'racer': 39 - Devin Miller, 'racing_group': scouts},\n",
        " {'race_results': [], 'racer': 40 - Jacob Donahue, 'racing_group': scouts}]\n"
       ]
      }
     ],
     "prompt_number": 23
    },
    {
     "cell_type": "code",
     "collapsed": false,
     "input": [],
     "language": "python",
     "metadata": {},
     "outputs": []
    }
   ],
   "metadata": {}
  }
 ]
}