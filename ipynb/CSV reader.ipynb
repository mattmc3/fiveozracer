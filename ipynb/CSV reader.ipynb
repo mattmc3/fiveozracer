{
 "metadata": {
  "name": ""
 },
 "nbformat": 3,
 "nbformat_minor": 0,
 "worksheets": [
  {
   "cells": [
    {
     "cell_type": "code",
     "collapsed": false,
     "input": [
      "import csv\n",
      "from pprint import pprint\n",
      "\n",
      "header = True\n",
      "field_names = []\n",
      "data = []\n",
      "for row in csv.reader(open(\"data.tsv\"), delimiter=\"\\t\"):\n",
      "    if header:\n",
      "        header = False\n",
      "        field_names = row\n",
      "    elif len(row) > 0:\n",
      "        d = dict(zip(field_names, row))\n",
      "        data.append(d)\n",
      "\n",
      "pprint(data)"
     ],
     "language": "python",
     "metadata": {},
     "outputs": [
      {
       "output_type": "stream",
       "stream": "stdout",
       "text": [
        "[{'id': '1', 'name': 'Matt'},\n",
        " {'id': '2', 'name': 'Beth'},\n",
        " {'id': '3', 'name': 'Ian'},\n",
        " {'id': '4', 'name': 'Caleb'},\n",
        " {'id': '5', 'name': 'Alison'}]\n"
       ]
      }
     ],
     "prompt_number": 15
    },
    {
     "cell_type": "code",
     "collapsed": false,
     "input": [
      "data"
     ],
     "language": "python",
     "metadata": {},
     "outputs": [
      {
       "metadata": {},
       "output_type": "pyout",
       "prompt_number": 16,
       "text": [
        "[{'id': '1', 'name': 'Matt'},\n",
        " {'id': '2', 'name': 'Beth'},\n",
        " {'id': '3', 'name': 'Ian'},\n",
        " {'id': '4', 'name': 'Caleb'},\n",
        " {'id': '5', 'name': 'Alison'}]"
       ]
      }
     ],
     "prompt_number": 16
    },
    {
     "cell_type": "code",
     "collapsed": false,
     "input": [],
     "language": "python",
     "metadata": {},
     "outputs": [
      {
       "metadata": {},
       "output_type": "pyout",
       "prompt_number": 24,
       "text": [
        "'2014-03-08 09:00:00'"
       ]
      }
     ],
     "prompt_number": 24
    },
    {
     "cell_type": "code",
     "collapsed": false,
     "input": [],
     "language": "python",
     "metadata": {},
     "outputs": []
    }
   ],
   "metadata": {}
  }
 ]
}