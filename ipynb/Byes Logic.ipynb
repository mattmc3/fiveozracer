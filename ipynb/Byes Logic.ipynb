{
 "metadata": {
  "name": ""
 },
 "nbformat": 3,
 "nbformat_minor": 0,
 "worksheets": [
  {
   "cells": [
    {
     "cell_type": "code",
     "collapsed": false,
     "input": [
      "import math\n",
      "import unittest"
     ],
     "language": "python",
     "metadata": {},
     "outputs": [],
     "prompt_number": 1
    },
    {
     "cell_type": "code",
     "collapsed": false,
     "input": [
      "def get_lineup_counts_for_round(num_racers, num_lanes):\n",
      "    heat = 1\n",
      "    num_heats = math.ceil(num_racers / num_lanes)\n",
      "    byes_needed = (math.ceil(num_racers / num_lanes) * num_lanes) - num_racers\n",
      "    byes_remaining = byes_needed\n",
      "    result = []\n",
      "    \n",
      "    while heat <= num_heats:\n",
      "        heats_remaining = (num_heats - (heat - 1))\n",
      "        byes_in_heat = math.ceil(byes_remaining / heats_remaining)\n",
      "        byes_remaining -= byes_in_heat\n",
      "        result.append({'racers': num_lanes - byes_in_heat, 'byes': byes_in_heat})\n",
      "        heat += 1\n",
      "    \n",
      "    return result\n",
      "\n",
      "print(get_lineup_counts_for_round(11, 5))\n",
      "    "
     ],
     "language": "python",
     "metadata": {},
     "outputs": [
      {
       "output_type": "stream",
       "stream": "stdout",
       "text": [
        "[{'byes': 2, 'racers': 3}, {'byes': 1, 'racers': 4}, {'byes': 1, 'racers': 4}]\n"
       ]
      }
     ],
     "prompt_number": 2
    },
    {
     "cell_type": "code",
     "collapsed": false,
     "input": [
      "class TestByes(unittest.TestCase):\n",
      "\n",
      "    def setUp(self):\n",
      "        pass\n",
      "\n",
      "    def test_get_lineup(self):\n",
      "        for num_lanes in range(5, 9):\n",
      "            for num_racers in range(8, 101):\n",
      "                lineup = get_lineup_counts_for_round(num_racers, num_lanes)\n",
      "                racer_count = sum([x['racers'] for x in lineup])\n",
      "                bye_count = sum([x['byes'] for x in lineup])\n",
      "                self.assertTrue(racer_count == num_racers)\n",
      "                self.assertTrue((racer_count + bye_count) % num_lanes == 0)\n"
     ],
     "language": "python",
     "metadata": {},
     "outputs": [],
     "prompt_number": 20
    },
    {
     "cell_type": "code",
     "collapsed": false,
     "input": [
      "suite = unittest.TestLoader().loadTestsFromTestCase(TestByes)\n",
      "unittest.TextTestRunner(verbosity=2).run(suite)"
     ],
     "language": "python",
     "metadata": {},
     "outputs": [
      {
       "output_type": "stream",
       "stream": "stderr",
       "text": [
        "test_get_lineup (__main__.TestByes) ... "
       ]
      },
      {
       "output_type": "stream",
       "stream": "stderr",
       "text": [
        "ok\n",
        "\n",
        "----------------------------------------------------------------------\n",
        "Ran 1 test in 0.006s\n",
        "\n",
        "OK\n"
       ]
      },
      {
       "metadata": {},
       "output_type": "pyout",
       "prompt_number": 19,
       "text": [
        "<unittest.runner.TextTestResult run=1 errors=0 failures=0>"
       ]
      }
     ],
     "prompt_number": 19
    },
    {
     "cell_type": "code",
     "collapsed": false,
     "input": [],
     "language": "python",
     "metadata": {},
     "outputs": []
    }
   ],
   "metadata": {}
  }
 ]
}